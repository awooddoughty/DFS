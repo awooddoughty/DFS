{
 "cells": [
  {
   "cell_type": "code",
   "execution_count": 98,
   "metadata": {},
   "outputs": [],
   "source": [
    "import pandas as pd\n",
    "import statsmodels.formula.api as smf\n",
    "from sklearn.model_selection import train_test_split\n",
    "from sklearn.ensemble import RandomForestRegressor\n",
    "from sklearn.linear_model import LinearRegression\n",
    "from sklearn.model_selection import RandomizedSearchCV, GridSearchCV\n",
    "from sklearn.tree import export_graphviz\n",
    "import graphviz\n",
    "import xgboost as xgb\n",
    "from sklearn.model_selection import KFold\n",
    "from sklearn.model_selection import cross_val_score"
   ]
  },
  {
   "cell_type": "code",
   "execution_count": 2,
   "metadata": {},
   "outputs": [],
   "source": [
    "df = pd.read_csv('training_data.csv')"
   ]
  },
  {
   "cell_type": "code",
   "execution_count": 3,
   "metadata": {},
   "outputs": [
    {
     "data": {
      "text/html": [
       "<div>\n",
       "<style scoped>\n",
       "    .dataframe tbody tr th:only-of-type {\n",
       "        vertical-align: middle;\n",
       "    }\n",
       "\n",
       "    .dataframe tbody tr th {\n",
       "        vertical-align: top;\n",
       "    }\n",
       "\n",
       "    .dataframe thead th {\n",
       "        text-align: right;\n",
       "    }\n",
       "</style>\n",
       "<table border=\"1\" class=\"dataframe\">\n",
       "  <thead>\n",
       "    <tr style=\"text-align: right;\">\n",
       "      <th></th>\n",
       "      <th>ATT_PASS</th>\n",
       "      <th>ATT_RUSH</th>\n",
       "      <th>CMP</th>\n",
       "      <th>FF</th>\n",
       "      <th>FG</th>\n",
       "      <th>FGA</th>\n",
       "      <th>FL</th>\n",
       "      <th>FPTS</th>\n",
       "      <th>FR</th>\n",
       "      <th>INT</th>\n",
       "      <th>...</th>\n",
       "      <th>home/away</th>\n",
       "      <th>OverUnder</th>\n",
       "      <th>team</th>\n",
       "      <th>spread</th>\n",
       "      <th>ml</th>\n",
       "      <th>ID</th>\n",
       "      <th>Name_y</th>\n",
       "      <th>Abbreviation</th>\n",
       "      <th>Conference</th>\n",
       "      <th>Division</th>\n",
       "    </tr>\n",
       "  </thead>\n",
       "  <tbody>\n",
       "    <tr>\n",
       "      <th>0</th>\n",
       "      <td>30.1</td>\n",
       "      <td>6.3</td>\n",
       "      <td>19.9</td>\n",
       "      <td>0.0</td>\n",
       "      <td>0.0</td>\n",
       "      <td>0.0</td>\n",
       "      <td>0.2</td>\n",
       "      <td>20.6</td>\n",
       "      <td>0.0</td>\n",
       "      <td>0.0</td>\n",
       "      <td>...</td>\n",
       "      <td>away</td>\n",
       "      <td>43.5</td>\n",
       "      <td>Seahawks</td>\n",
       "      <td>-10.5</td>\n",
       "      <td>-500</td>\n",
       "      <td>28</td>\n",
       "      <td>Seattle Seahawks</td>\n",
       "      <td>SEA</td>\n",
       "      <td>NFC</td>\n",
       "      <td>West</td>\n",
       "    </tr>\n",
       "    <tr>\n",
       "      <th>1</th>\n",
       "      <td>0.0</td>\n",
       "      <td>11.3</td>\n",
       "      <td>0.0</td>\n",
       "      <td>0.0</td>\n",
       "      <td>0.0</td>\n",
       "      <td>0.0</td>\n",
       "      <td>0.1</td>\n",
       "      <td>9.4</td>\n",
       "      <td>0.0</td>\n",
       "      <td>0.0</td>\n",
       "      <td>...</td>\n",
       "      <td>away</td>\n",
       "      <td>43.5</td>\n",
       "      <td>Seahawks</td>\n",
       "      <td>-10.5</td>\n",
       "      <td>-500</td>\n",
       "      <td>28</td>\n",
       "      <td>Seattle Seahawks</td>\n",
       "      <td>SEA</td>\n",
       "      <td>NFC</td>\n",
       "      <td>West</td>\n",
       "    </tr>\n",
       "    <tr>\n",
       "      <th>2</th>\n",
       "      <td>0.0</td>\n",
       "      <td>8.0</td>\n",
       "      <td>0.0</td>\n",
       "      <td>0.0</td>\n",
       "      <td>0.0</td>\n",
       "      <td>0.0</td>\n",
       "      <td>0.1</td>\n",
       "      <td>5.8</td>\n",
       "      <td>0.0</td>\n",
       "      <td>0.0</td>\n",
       "      <td>...</td>\n",
       "      <td>away</td>\n",
       "      <td>43.5</td>\n",
       "      <td>Seahawks</td>\n",
       "      <td>-10.5</td>\n",
       "      <td>-500</td>\n",
       "      <td>28</td>\n",
       "      <td>Seattle Seahawks</td>\n",
       "      <td>SEA</td>\n",
       "      <td>NFC</td>\n",
       "      <td>West</td>\n",
       "    </tr>\n",
       "    <tr>\n",
       "      <th>3</th>\n",
       "      <td>0.0</td>\n",
       "      <td>3.4</td>\n",
       "      <td>0.0</td>\n",
       "      <td>0.0</td>\n",
       "      <td>0.0</td>\n",
       "      <td>0.0</td>\n",
       "      <td>0.0</td>\n",
       "      <td>3.7</td>\n",
       "      <td>0.0</td>\n",
       "      <td>0.0</td>\n",
       "      <td>...</td>\n",
       "      <td>away</td>\n",
       "      <td>43.5</td>\n",
       "      <td>Seahawks</td>\n",
       "      <td>-10.5</td>\n",
       "      <td>-500</td>\n",
       "      <td>28</td>\n",
       "      <td>Seattle Seahawks</td>\n",
       "      <td>SEA</td>\n",
       "      <td>NFC</td>\n",
       "      <td>West</td>\n",
       "    </tr>\n",
       "    <tr>\n",
       "      <th>4</th>\n",
       "      <td>0.0</td>\n",
       "      <td>0.0</td>\n",
       "      <td>0.0</td>\n",
       "      <td>0.0</td>\n",
       "      <td>0.0</td>\n",
       "      <td>0.0</td>\n",
       "      <td>0.0</td>\n",
       "      <td>9.6</td>\n",
       "      <td>0.0</td>\n",
       "      <td>0.0</td>\n",
       "      <td>...</td>\n",
       "      <td>away</td>\n",
       "      <td>43.5</td>\n",
       "      <td>Seahawks</td>\n",
       "      <td>-10.5</td>\n",
       "      <td>-500</td>\n",
       "      <td>28</td>\n",
       "      <td>Seattle Seahawks</td>\n",
       "      <td>SEA</td>\n",
       "      <td>NFC</td>\n",
       "      <td>West</td>\n",
       "    </tr>\n",
       "  </tbody>\n",
       "</table>\n",
       "<p>5 rows × 49 columns</p>\n",
       "</div>"
      ],
      "text/plain": [
       "   ATT_PASS  ATT_RUSH   CMP   FF   FG  FGA   FL  FPTS   FR  INT    ...     \\\n",
       "0      30.1       6.3  19.9  0.0  0.0  0.0  0.2  20.6  0.0  0.0    ...      \n",
       "1       0.0      11.3   0.0  0.0  0.0  0.0  0.1   9.4  0.0  0.0    ...      \n",
       "2       0.0       8.0   0.0  0.0  0.0  0.0  0.1   5.8  0.0  0.0    ...      \n",
       "3       0.0       3.4   0.0  0.0  0.0  0.0  0.0   3.7  0.0  0.0    ...      \n",
       "4       0.0       0.0   0.0  0.0  0.0  0.0  0.0   9.6  0.0  0.0    ...      \n",
       "\n",
       "   home/away  OverUnder      team spread   ml  ID            Name_y  \\\n",
       "0       away       43.5  Seahawks  -10.5 -500  28  Seattle Seahawks   \n",
       "1       away       43.5  Seahawks  -10.5 -500  28  Seattle Seahawks   \n",
       "2       away       43.5  Seahawks  -10.5 -500  28  Seattle Seahawks   \n",
       "3       away       43.5  Seahawks  -10.5 -500  28  Seattle Seahawks   \n",
       "4       away       43.5  Seahawks  -10.5 -500  28  Seattle Seahawks   \n",
       "\n",
       "   Abbreviation  Conference  Division  \n",
       "0           SEA         NFC      West  \n",
       "1           SEA         NFC      West  \n",
       "2           SEA         NFC      West  \n",
       "3           SEA         NFC      West  \n",
       "4           SEA         NFC      West  \n",
       "\n",
       "[5 rows x 49 columns]"
      ]
     },
     "execution_count": 3,
     "metadata": {},
     "output_type": "execute_result"
    }
   ],
   "source": [
    "df.head()"
   ]
  },
  {
   "cell_type": "code",
   "execution_count": 4,
   "metadata": {},
   "outputs": [
    {
     "data": {
      "text/plain": [
       "ATT_PASS                    30.1\n",
       "ATT_RUSH                     6.3\n",
       "CMP                         19.9\n",
       "FF                             0\n",
       "FG                             0\n",
       "FGA                            0\n",
       "FL                           0.2\n",
       "FPTS                        20.6\n",
       "FR                             0\n",
       "INT                            0\n",
       "INTS                         0.6\n",
       "PA                             0\n",
       "Player            Russell Wilson\n",
       "Pos_x                         QB\n",
       "REC                            0\n",
       "SACK                           0\n",
       "SAFETY                         0\n",
       "TD                             0\n",
       "TDS_PASS                     1.9\n",
       "TDS_REC                        0\n",
       "TDS_RUSH                     0.2\n",
       "Team_x                       SEA\n",
       "Week                           1\n",
       "XPT                            0\n",
       "YDS_AGN                        0\n",
       "YDS_PASS                     245\n",
       "YDS_REC                        0\n",
       "YDS_RUSH                    34.9\n",
       "Year                        2016\n",
       "GID                         1412\n",
       "Name_x           Wilson, Russell\n",
       "Pos_y                         QB\n",
       "Team_y                       SEA\n",
       "h/a                            h\n",
       "Oppt                         MIA\n",
       "DK points                  13.92\n",
       "DK salary                   7900\n",
       "team_abbrev                  SEA\n",
       "game_id                       10\n",
       "home/away                   away\n",
       "OverUnder                   43.5\n",
       "team                    Seahawks\n",
       "spread                     -10.5\n",
       "ml                          -500\n",
       "ID                            28\n",
       "Name_y          Seattle Seahawks\n",
       "Abbreviation                 SEA\n",
       "Conference                   NFC\n",
       "Division                    West\n",
       "Name: 0, dtype: object"
      ]
     },
     "execution_count": 4,
     "metadata": {},
     "output_type": "execute_result"
    }
   ],
   "source": [
    "df.iloc[0]"
   ]
  },
  {
   "cell_type": "code",
   "execution_count": 34,
   "metadata": {},
   "outputs": [
    {
     "name": "stderr",
     "output_type": "stream",
     "text": [
      "/Users/Alex/anaconda/envs/venv/lib/python2.7/site-packages/ipykernel_launcher.py:4: SettingWithCopyWarning: \n",
      "A value is trying to be set on a copy of a slice from a DataFrame\n",
      "\n",
      "See the caveats in the documentation: http://pandas.pydata.org/pandas-docs/stable/indexing.html#indexing-view-versus-copy\n",
      "  after removing the cwd from sys.path.\n"
     ]
    }
   ],
   "source": [
    "clean_df = df[['Year', 'Week', 'Player', 'team_abbrev',\n",
    "               'FPTS', 'DK salary', 'DK points', 'home/away',\n",
    "               'OverUnder', 'spread', 'ml']]\n",
    "clean_df.dropna(inplace=True)\n",
    "clean_df.rename(columns={'DK salary': 'DK_salary',\n",
    "                         'DK points': 'DK_points',\n",
    "                         'home/away': 'home'}, inplace=True)"
   ]
  },
  {
   "cell_type": "code",
   "execution_count": 35,
   "metadata": {},
   "outputs": [
    {
     "data": {
      "text/html": [
       "<div>\n",
       "<style scoped>\n",
       "    .dataframe tbody tr th:only-of-type {\n",
       "        vertical-align: middle;\n",
       "    }\n",
       "\n",
       "    .dataframe tbody tr th {\n",
       "        vertical-align: top;\n",
       "    }\n",
       "\n",
       "    .dataframe thead th {\n",
       "        text-align: right;\n",
       "    }\n",
       "</style>\n",
       "<table border=\"1\" class=\"dataframe\">\n",
       "  <thead>\n",
       "    <tr style=\"text-align: right;\">\n",
       "      <th></th>\n",
       "      <th>Year</th>\n",
       "      <th>Week</th>\n",
       "      <th>Player</th>\n",
       "      <th>team_abbrev</th>\n",
       "      <th>FPTS</th>\n",
       "      <th>DK_salary</th>\n",
       "      <th>DK_points</th>\n",
       "      <th>home</th>\n",
       "      <th>OverUnder</th>\n",
       "      <th>spread</th>\n",
       "      <th>ml</th>\n",
       "    </tr>\n",
       "  </thead>\n",
       "  <tbody>\n",
       "    <tr>\n",
       "      <th>0</th>\n",
       "      <td>2016</td>\n",
       "      <td>1</td>\n",
       "      <td>Russell Wilson</td>\n",
       "      <td>SEA</td>\n",
       "      <td>20.6</td>\n",
       "      <td>7900.0</td>\n",
       "      <td>13.92</td>\n",
       "      <td>away</td>\n",
       "      <td>43.5</td>\n",
       "      <td>-10.5</td>\n",
       "      <td>-500</td>\n",
       "    </tr>\n",
       "    <tr>\n",
       "      <th>1</th>\n",
       "      <td>2016</td>\n",
       "      <td>1</td>\n",
       "      <td>Christine Michael</td>\n",
       "      <td>SEA</td>\n",
       "      <td>9.4</td>\n",
       "      <td>3700.0</td>\n",
       "      <td>9.10</td>\n",
       "      <td>away</td>\n",
       "      <td>43.5</td>\n",
       "      <td>-10.5</td>\n",
       "      <td>-500</td>\n",
       "    </tr>\n",
       "    <tr>\n",
       "      <th>2</th>\n",
       "      <td>2016</td>\n",
       "      <td>1</td>\n",
       "      <td>Thomas Rawls</td>\n",
       "      <td>SEA</td>\n",
       "      <td>5.8</td>\n",
       "      <td>6000.0</td>\n",
       "      <td>8.80</td>\n",
       "      <td>away</td>\n",
       "      <td>43.5</td>\n",
       "      <td>-10.5</td>\n",
       "      <td>-500</td>\n",
       "    </tr>\n",
       "    <tr>\n",
       "      <th>3</th>\n",
       "      <td>2016</td>\n",
       "      <td>1</td>\n",
       "      <td>C.J. Prosise</td>\n",
       "      <td>SEA</td>\n",
       "      <td>3.7</td>\n",
       "      <td>3900.0</td>\n",
       "      <td>2.10</td>\n",
       "      <td>away</td>\n",
       "      <td>43.5</td>\n",
       "      <td>-10.5</td>\n",
       "      <td>-500</td>\n",
       "    </tr>\n",
       "    <tr>\n",
       "      <th>4</th>\n",
       "      <td>2016</td>\n",
       "      <td>1</td>\n",
       "      <td>Doug Baldwin</td>\n",
       "      <td>SEA</td>\n",
       "      <td>9.6</td>\n",
       "      <td>6600.0</td>\n",
       "      <td>24.20</td>\n",
       "      <td>away</td>\n",
       "      <td>43.5</td>\n",
       "      <td>-10.5</td>\n",
       "      <td>-500</td>\n",
       "    </tr>\n",
       "  </tbody>\n",
       "</table>\n",
       "</div>"
      ],
      "text/plain": [
       "   Year  Week             Player team_abbrev  FPTS  DK_salary  DK_points  \\\n",
       "0  2016     1     Russell Wilson         SEA  20.6     7900.0      13.92   \n",
       "1  2016     1  Christine Michael         SEA   9.4     3700.0       9.10   \n",
       "2  2016     1       Thomas Rawls         SEA   5.8     6000.0       8.80   \n",
       "3  2016     1       C.J. Prosise         SEA   3.7     3900.0       2.10   \n",
       "4  2016     1       Doug Baldwin         SEA   9.6     6600.0      24.20   \n",
       "\n",
       "   home  OverUnder  spread   ml  \n",
       "0  away       43.5   -10.5 -500  \n",
       "1  away       43.5   -10.5 -500  \n",
       "2  away       43.5   -10.5 -500  \n",
       "3  away       43.5   -10.5 -500  \n",
       "4  away       43.5   -10.5 -500  "
      ]
     },
     "execution_count": 35,
     "metadata": {},
     "output_type": "execute_result"
    }
   ],
   "source": [
    "clean_df.head()"
   ]
  },
  {
   "cell_type": "code",
   "execution_count": 39,
   "metadata": {},
   "outputs": [
    {
     "data": {
      "text/html": [
       "<table class=\"simpletable\">\n",
       "<caption>OLS Regression Results</caption>\n",
       "<tr>\n",
       "  <th>Dep. Variable:</th>        <td>DK_points</td>    <th>  R-squared:         </th> <td>   0.444</td> \n",
       "</tr>\n",
       "<tr>\n",
       "  <th>Model:</th>                   <td>OLS</td>       <th>  Adj. R-squared:    </th> <td>   0.444</td> \n",
       "</tr>\n",
       "<tr>\n",
       "  <th>Method:</th>             <td>Least Squares</td>  <th>  F-statistic:       </th> <td>   1787.</td> \n",
       "</tr>\n",
       "<tr>\n",
       "  <th>Date:</th>             <td>Sun, 02 Sep 2018</td> <th>  Prob (F-statistic):</th>  <td>  0.00</td>  \n",
       "</tr>\n",
       "<tr>\n",
       "  <th>Time:</th>                 <td>15:21:45</td>     <th>  Log-Likelihood:    </th> <td> -36223.</td> \n",
       "</tr>\n",
       "<tr>\n",
       "  <th>No. Observations:</th>      <td> 11187</td>      <th>  AIC:               </th> <td>7.246e+04</td>\n",
       "</tr>\n",
       "<tr>\n",
       "  <th>Df Residuals:</th>          <td> 11181</td>      <th>  BIC:               </th> <td>7.250e+04</td>\n",
       "</tr>\n",
       "<tr>\n",
       "  <th>Df Model:</th>              <td>     5</td>      <th>                     </th>     <td> </td>    \n",
       "</tr>\n",
       "<tr>\n",
       "  <th>Covariance Type:</th>      <td>nonrobust</td>    <th>                     </th>     <td> </td>    \n",
       "</tr>\n",
       "</table>\n",
       "<table class=\"simpletable\">\n",
       "<tr>\n",
       "      <td></td>         <th>coef</th>     <th>std err</th>      <th>t</th>      <th>P>|t|</th>  <th>[0.025</th>    <th>0.975]</th>  \n",
       "</tr>\n",
       "<tr>\n",
       "  <th>Intercept</th> <td>   -0.8990</td> <td>    0.671</td> <td>   -1.340</td> <td> 0.180</td> <td>   -2.214</td> <td>    0.416</td>\n",
       "</tr>\n",
       "<tr>\n",
       "  <th>FPTS</th>      <td>    0.9213</td> <td>    0.019</td> <td>   47.554</td> <td> 0.000</td> <td>    0.883</td> <td>    0.959</td>\n",
       "</tr>\n",
       "<tr>\n",
       "  <th>DK_salary</th> <td>    0.0008</td> <td> 5.99e-05</td> <td>   13.769</td> <td> 0.000</td> <td>    0.001</td> <td>    0.001</td>\n",
       "</tr>\n",
       "<tr>\n",
       "  <th>OverUnder</th> <td>    0.0036</td> <td>    0.015</td> <td>    0.247</td> <td> 0.805</td> <td>   -0.025</td> <td>    0.032</td>\n",
       "</tr>\n",
       "<tr>\n",
       "  <th>spread</th>    <td>    0.0096</td> <td>    0.037</td> <td>    0.257</td> <td> 0.798</td> <td>   -0.064</td> <td>    0.083</td>\n",
       "</tr>\n",
       "<tr>\n",
       "  <th>ml</th>        <td>   -0.0003</td> <td>    0.001</td> <td>   -0.437</td> <td> 0.662</td> <td>   -0.002</td> <td>    0.001</td>\n",
       "</tr>\n",
       "</table>\n",
       "<table class=\"simpletable\">\n",
       "<tr>\n",
       "  <th>Omnibus:</th>       <td>2531.563</td> <th>  Durbin-Watson:     </th> <td>   2.022</td>\n",
       "</tr>\n",
       "<tr>\n",
       "  <th>Prob(Omnibus):</th>  <td> 0.000</td>  <th>  Jarque-Bera (JB):  </th> <td>6807.190</td>\n",
       "</tr>\n",
       "<tr>\n",
       "  <th>Skew:</th>           <td> 1.211</td>  <th>  Prob(JB):          </th> <td>    0.00</td>\n",
       "</tr>\n",
       "<tr>\n",
       "  <th>Kurtosis:</th>       <td> 5.956</td>  <th>  Cond. No.          </th> <td>4.88e+04</td>\n",
       "</tr>\n",
       "</table><br/><br/>Warnings:<br/>[1] Standard Errors assume that the covariance matrix of the errors is correctly specified.<br/>[2] The condition number is large, 4.88e+04. This might indicate that there are<br/>strong multicollinearity or other numerical problems."
      ],
      "text/plain": [
       "<class 'statsmodels.iolib.summary.Summary'>\n",
       "\"\"\"\n",
       "                            OLS Regression Results                            \n",
       "==============================================================================\n",
       "Dep. Variable:              DK_points   R-squared:                       0.444\n",
       "Model:                            OLS   Adj. R-squared:                  0.444\n",
       "Method:                 Least Squares   F-statistic:                     1787.\n",
       "Date:                Sun, 02 Sep 2018   Prob (F-statistic):               0.00\n",
       "Time:                        15:21:45   Log-Likelihood:                -36223.\n",
       "No. Observations:               11187   AIC:                         7.246e+04\n",
       "Df Residuals:                   11181   BIC:                         7.250e+04\n",
       "Df Model:                           5                                         \n",
       "Covariance Type:            nonrobust                                         \n",
       "==============================================================================\n",
       "                 coef    std err          t      P>|t|      [0.025      0.975]\n",
       "------------------------------------------------------------------------------\n",
       "Intercept     -0.8990      0.671     -1.340      0.180      -2.214       0.416\n",
       "FPTS           0.9213      0.019     47.554      0.000       0.883       0.959\n",
       "DK_salary      0.0008   5.99e-05     13.769      0.000       0.001       0.001\n",
       "OverUnder      0.0036      0.015      0.247      0.805      -0.025       0.032\n",
       "spread         0.0096      0.037      0.257      0.798      -0.064       0.083\n",
       "ml            -0.0003      0.001     -0.437      0.662      -0.002       0.001\n",
       "==============================================================================\n",
       "Omnibus:                     2531.563   Durbin-Watson:                   2.022\n",
       "Prob(Omnibus):                  0.000   Jarque-Bera (JB):             6807.190\n",
       "Skew:                           1.211   Prob(JB):                         0.00\n",
       "Kurtosis:                       5.956   Cond. No.                     4.88e+04\n",
       "==============================================================================\n",
       "\n",
       "Warnings:\n",
       "[1] Standard Errors assume that the covariance matrix of the errors is correctly specified.\n",
       "[2] The condition number is large, 4.88e+04. This might indicate that there are\n",
       "strong multicollinearity or other numerical problems.\n",
       "\"\"\""
      ]
     },
     "execution_count": 39,
     "metadata": {},
     "output_type": "execute_result"
    }
   ],
   "source": [
    "results = smf.ols(\"DK_points ~ FPTS + DK_salary + OverUnder + spread + ml + C(home) + C(Year):C(Week) + C(team_abbrev)\", data=clean_df).fit()\n",
    "# results.summary()\n",
    "results = smf.ols(\"DK_points ~ FPTS + DK_salary + OverUnder + spread + ml\", data=clean_df).fit()\n",
    "results.summary()"
   ]
  },
  {
   "cell_type": "code",
   "execution_count": null,
   "metadata": {},
   "outputs": [],
   "source": []
  },
  {
   "cell_type": "code",
   "execution_count": 67,
   "metadata": {},
   "outputs": [],
   "source": [
    "X = clean_df[['FPTS', 'DK_salary', 'OverUnder', 'spread', 'ml']]\n",
    "y = clean_df['DK_points']"
   ]
  },
  {
   "cell_type": "code",
   "execution_count": 68,
   "metadata": {},
   "outputs": [],
   "source": [
    "X_train, X_test, y_train, y_test = train_test_split(X, y, test_size=0.33, random_state=42)"
   ]
  },
  {
   "cell_type": "code",
   "execution_count": null,
   "metadata": {},
   "outputs": [],
   "source": []
  },
  {
   "cell_type": "code",
   "execution_count": 82,
   "metadata": {},
   "outputs": [
    {
     "data": {
      "text/plain": [
       "LinearRegression(copy_X=True, fit_intercept=True, n_jobs=1, normalize=False)"
      ]
     },
     "execution_count": 82,
     "metadata": {},
     "output_type": "execute_result"
    }
   ],
   "source": [
    "ols = LinearRegression()\n",
    "ols.fit(X_train, y_train)"
   ]
  },
  {
   "cell_type": "code",
   "execution_count": 83,
   "metadata": {},
   "outputs": [
    {
     "data": {
      "text/plain": [
       "0.42668929384754173"
      ]
     },
     "execution_count": 83,
     "metadata": {},
     "output_type": "execute_result"
    }
   ],
   "source": [
    "ols.score(X_test, y_test)"
   ]
  },
  {
   "cell_type": "code",
   "execution_count": null,
   "metadata": {},
   "outputs": [],
   "source": []
  },
  {
   "cell_type": "code",
   "execution_count": 69,
   "metadata": {},
   "outputs": [
    {
     "data": {
      "text/plain": [
       "RandomForestRegressor(bootstrap=True, criterion='mse', max_depth=10,\n",
       "           max_features='auto', max_leaf_nodes=None,\n",
       "           min_impurity_decrease=0.0, min_impurity_split=None,\n",
       "           min_samples_leaf=1, min_samples_split=2,\n",
       "           min_weight_fraction_leaf=0.0, n_estimators=100, n_jobs=4,\n",
       "           oob_score=False, random_state=0, verbose=0, warm_start=False)"
      ]
     },
     "execution_count": 69,
     "metadata": {},
     "output_type": "execute_result"
    }
   ],
   "source": [
    "rf = RandomForestRegressor(n_estimators=100, max_depth=10, n_jobs=4, random_state=0)\n",
    "rf.fit(X_train, y_train)"
   ]
  },
  {
   "cell_type": "code",
   "execution_count": 70,
   "metadata": {},
   "outputs": [
    {
     "data": {
      "text/plain": [
       "array([0.72840311, 0.1081889 , 0.059003  , 0.03624725, 0.06815773])"
      ]
     },
     "execution_count": 70,
     "metadata": {},
     "output_type": "execute_result"
    }
   ],
   "source": [
    "rf.feature_importances_"
   ]
  },
  {
   "cell_type": "code",
   "execution_count": 71,
   "metadata": {},
   "outputs": [
    {
     "data": {
      "text/plain": [
       "0.4249015777601698"
      ]
     },
     "execution_count": 71,
     "metadata": {},
     "output_type": "execute_result"
    }
   ],
   "source": [
    "rf.score(X_test, y_test)"
   ]
  },
  {
   "cell_type": "code",
   "execution_count": 63,
   "metadata": {},
   "outputs": [],
   "source": [
    "tree_in_forest = rf.estimators_[0]"
   ]
  },
  {
   "cell_type": "code",
   "execution_count": 64,
   "metadata": {},
   "outputs": [
    {
     "data": {
      "text/plain": [
       "'Source.gv.pdf'"
      ]
     },
     "execution_count": 64,
     "metadata": {},
     "output_type": "execute_result"
    }
   ],
   "source": [
    "graphviz.Source(export_graphviz(tree_in_forest,\n",
    "                feature_names=X.columns,\n",
    "                filled=True,\n",
    "                rounded=True,\n",
    "                out_file=None)).view()"
   ]
  },
  {
   "cell_type": "code",
   "execution_count": null,
   "metadata": {},
   "outputs": [],
   "source": []
  },
  {
   "cell_type": "code",
   "execution_count": 93,
   "metadata": {},
   "outputs": [],
   "source": [
    "model = xgb.XGBRegressor(learning_rate=0.1)\n",
    "model.fit(X_train, y_train)\n",
    "kfold = KFold(n_splits=10, random_state=7)\n",
    "results = cross_val_score(model, X, y, cv=kfold)"
   ]
  },
  {
   "cell_type": "code",
   "execution_count": 94,
   "metadata": {},
   "outputs": [
    {
     "data": {
      "text/plain": [
       "array([0.48680291, 0.45581985, 0.50424265, 0.46833928, 0.4152795 ,\n",
       "       0.44290341, 0.40764312, 0.4603986 , 0.45807811, 0.417377  ])"
      ]
     },
     "execution_count": 94,
     "metadata": {},
     "output_type": "execute_result"
    }
   ],
   "source": [
    "results"
   ]
  },
  {
   "cell_type": "code",
   "execution_count": 110,
   "metadata": {},
   "outputs": [
    {
     "data": {
      "text/plain": [
       "0.45168844203636827"
      ]
     },
     "execution_count": 110,
     "metadata": {},
     "output_type": "execute_result"
    }
   ],
   "source": [
    "results.mean()"
   ]
  },
  {
   "cell_type": "code",
   "execution_count": 95,
   "metadata": {},
   "outputs": [
    {
     "data": {
      "text/plain": [
       "0.4372685473923953"
      ]
     },
     "execution_count": 95,
     "metadata": {},
     "output_type": "execute_result"
    }
   ],
   "source": [
    "xg.score(X_test, y_test)"
   ]
  },
  {
   "cell_type": "code",
   "execution_count": 85,
   "metadata": {},
   "outputs": [
    {
     "data": {
      "text/plain": [
       "array([0.40209267, 0.30792227, 0.09715994, 0.10014948, 0.09267563],\n",
       "      dtype=float32)"
      ]
     },
     "execution_count": 85,
     "metadata": {},
     "output_type": "execute_result"
    }
   ],
   "source": [
    "xg.feature_importances_"
   ]
  },
  {
   "cell_type": "code",
   "execution_count": null,
   "metadata": {},
   "outputs": [],
   "source": []
  },
  {
   "cell_type": "code",
   "execution_count": 115,
   "metadata": {},
   "outputs": [],
   "source": [
    "# A parameter grid for XGBoost\n",
    "params = {\n",
    "        'learning_rate': [0.01, 0.03, 0.05, 0.1],\n",
    "        'min_child_weight': [1, 5, 10],\n",
    "        'gamma': [0.5, 1, 1.5, 2, 5],\n",
    "        'subsample': [0.6, 0.8, 1.0],\n",
    "        'colsample_bytree': [0.6, 0.8, 1.0],\n",
    "        'max_depth': [3, 4, 5]\n",
    "        }"
   ]
  },
  {
   "cell_type": "code",
   "execution_count": 116,
   "metadata": {},
   "outputs": [],
   "source": [
    "model = xgb.XGBRegressor()\n",
    "kfold = KFold(n_splits=10, random_state=7)\n",
    "random_search = RandomizedSearchCV(model,\n",
    "                                   param_distributions=params,\n",
    "                                   n_iter=100,\n",
    "                                   n_jobs=4,\n",
    "                                   cv=kfold,\n",
    "                                   verbose=1,\n",
    "                                   random_state=1001 )"
   ]
  },
  {
   "cell_type": "code",
   "execution_count": 117,
   "metadata": {},
   "outputs": [
    {
     "name": "stdout",
     "output_type": "stream",
     "text": [
      "Fitting 10 folds for each of 100 candidates, totalling 1000 fits\n"
     ]
    },
    {
     "name": "stderr",
     "output_type": "stream",
     "text": [
      "[Parallel(n_jobs=4)]: Done  42 tasks      | elapsed:    3.8s\n",
      "[Parallel(n_jobs=4)]: Done 192 tasks      | elapsed:   18.7s\n",
      "[Parallel(n_jobs=4)]: Done 442 tasks      | elapsed:   42.8s\n",
      "[Parallel(n_jobs=4)]: Done 792 tasks      | elapsed:  1.3min\n",
      "[Parallel(n_jobs=4)]: Done 1000 out of 1000 | elapsed:  1.6min finished\n"
     ]
    },
    {
     "data": {
      "text/plain": [
       "RandomizedSearchCV(cv=KFold(n_splits=10, random_state=7, shuffle=False),\n",
       "          error_score='raise',\n",
       "          estimator=XGBRegressor(base_score=0.5, booster='gbtree', colsample_bylevel=1,\n",
       "       colsample_bytree=1, gamma=0, learning_rate=0.1, max_delta_step=0,\n",
       "       max_depth=3, min_child_weight=1, missing=None, n_estimators=100,\n",
       "       n_jobs=1, nthread=None, objective='reg:linear', random_state=0,\n",
       "       reg_alpha=0, reg_lambda=1, scale_pos_weight=1, seed=None,\n",
       "       silent=True, subsample=1),\n",
       "          fit_params=None, iid=True, n_iter=100, n_jobs=4,\n",
       "          param_distributions={'colsample_bytree': [0.6, 0.8, 1.0], 'learning_rate': [0.01, 0.03, 0.05, 0.1], 'min_child_weight': [1, 5, 10], 'subsample': [0.6, 0.8, 1.0], 'max_depth': [3, 4, 5], 'gamma': [0.5, 1, 1.5, 2, 5]},\n",
       "          pre_dispatch='2*n_jobs', random_state=1001, refit=True,\n",
       "          return_train_score='warn', scoring=None, verbose=1)"
      ]
     },
     "execution_count": 117,
     "metadata": {},
     "output_type": "execute_result"
    }
   ],
   "source": [
    "random_search.fit(X, y)"
   ]
  },
  {
   "cell_type": "code",
   "execution_count": null,
   "metadata": {},
   "outputs": [],
   "source": [
    "ran"
   ]
  },
  {
   "cell_type": "code",
   "execution_count": 109,
   "metadata": {},
   "outputs": [
    {
     "data": {
      "text/plain": [
       "0.4512033151863187"
      ]
     },
     "execution_count": 109,
     "metadata": {},
     "output_type": "execute_result"
    }
   ],
   "source": [
    "random_search.best_score_"
   ]
  },
  {
   "cell_type": "code",
   "execution_count": 113,
   "metadata": {},
   "outputs": [
    {
     "data": {
      "text/plain": [
       "0.45311302373971235"
      ]
     },
     "execution_count": 113,
     "metadata": {},
     "output_type": "execute_result"
    }
   ],
   "source": [
    "random_search.best_score_"
   ]
  },
  {
   "cell_type": "code",
   "execution_count": null,
   "metadata": {},
   "outputs": [],
   "source": []
  }
 ],
 "metadata": {
  "kernelspec": {
   "display_name": "Python 2",
   "language": "python",
   "name": "python2"
  },
  "language_info": {
   "codemirror_mode": {
    "name": "ipython",
    "version": 2
   },
   "file_extension": ".py",
   "mimetype": "text/x-python",
   "name": "python",
   "nbconvert_exporter": "python",
   "pygments_lexer": "ipython2",
   "version": "2.7.15"
  }
 },
 "nbformat": 4,
 "nbformat_minor": 2
}
