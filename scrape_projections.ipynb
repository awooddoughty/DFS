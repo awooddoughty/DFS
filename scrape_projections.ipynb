{
 "cells": [
  {
   "cell_type": "code",
   "execution_count": 52,
   "metadata": {},
   "outputs": [],
   "source": [
    "from selenium import webdriver\n",
    "from selenium.common.exceptions import ElementClickInterceptedException\n",
    "import os\n",
    "from time import sleep\n",
    "import pandas as pd\n",
    "\n",
    "PROJECTIONS_STUB = \"http://www.fantasypros.com/nfl/projections/\"\n",
    "CWD = os.getcwd()\n",
    "\n",
    "login = open('login.txt')\n",
    "USERNAME, PASSWORD = login.read().splitlines()"
   ]
  },
  {
   "cell_type": "code",
   "execution_count": 53,
   "metadata": {},
   "outputs": [],
   "source": [
    "def set_profile(year, week):\n",
    "    profile = webdriver.FirefoxProfile()\n",
    "    profile.set_preference('browser.download.folderList', 2) # custom location\n",
    "    profile.set_preference('browser.download.manager.showWhenStarting', False)\n",
    "    profile.set_preference('browser.download.dir', CWD + '/projections/{}/{}'.format(year, week))\n",
    "    profile.set_preference('browser.helperApps.neverAsk.saveToDisk', 'application/ms-excel')\n",
    "\n",
    "    options = webdriver.FirefoxOptions()\n",
    "    options.add_argument('-headless')\n",
    "    \n",
    "    return profile, options"
   ]
  },
  {
   "cell_type": "code",
   "execution_count": 54,
   "metadata": {},
   "outputs": [],
   "source": [
    "def login(username, password, profile, options):\n",
    "    browser = webdriver.Firefox(firefox_profile=profile, firefox_options=options)\n",
    "    \n",
    "    browser.get('https://secure.fantasypros.com/accounts/login/')\n",
    "    username_field = browser.find_element_by_id(\"id_username\")\n",
    "    username_field.send_keys(username)\n",
    "    password_field = browser.find_element_by_id(\"id_password\")\n",
    "    password_field.send_keys(password)\n",
    "    password_field.submit()\n",
    "    sleep(5)\n",
    "    \n",
    "    return browser"
   ]
  },
  {
   "cell_type": "code",
   "execution_count": 55,
   "metadata": {},
   "outputs": [],
   "source": [
    "def scrape_week(browser, year, week):\n",
    "#     for position in ['qb', 'rb', 'wr', 'te', 'k', 'dst']:\n",
    "    for position in ['dst']:\n",
    "        browser.get(PROJECTIONS_STUB + position + \".php?export=xls&year={}&week={}\".format(year, week))\n",
    "        sleep(3)\n",
    "        try:\n",
    "            browser.find_element_by_class_name(\"fa-fp-download\").click()\n",
    "        except ElementClickInterceptedException():\n",
    "            browser.find_element_by_id(\"cboxClose\").click()\n",
    "            browser.find_element_by_class_name(\"fa-fp-download\").click()\n",
    "        sleep(1)\n",
    "    browser.quit()"
   ]
  },
  {
   "cell_type": "code",
   "execution_count": 56,
   "metadata": {},
   "outputs": [],
   "source": [
    "for year in [str(y) for y in range(2016, 2018)]:\n",
    "    for week in [str(x) for x in range(1, 18)]:\n",
    "        profile, options = set_profile(year, week)\n",
    "        browser = login(USERNAME, PASSWORD, profile, options)\n",
    "        scrape_week(browser, year, week)"
   ]
  },
  {
   "cell_type": "code",
   "execution_count": 57,
   "metadata": {},
   "outputs": [
    {
     "name": "stderr",
     "output_type": "stream",
     "text": [
      "/Users/Alex/anaconda/envs/venv/lib/python3.6/site-packages/pandas/core/frame.py:6201: FutureWarning: Sorting because non-concatenation axis is not aligned. A future version\n",
      "of pandas will change to not sort by default.\n",
      "\n",
      "To accept the future behavior, pass 'sort=True'.\n",
      "\n",
      "To retain the current behavior and silence the warning, pass sort=False\n",
      "\n",
      "  sort=sort)\n"
     ]
    }
   ],
   "source": [
    "FILENAME_STUB = \"FantasyPros_Fantasy_Football_Projections_{}.csv\"\n",
    "full_df = pd.DataFrame()\n",
    "for year in [str(y) for y in range(2016, 2018)]:\n",
    "    for week in [str(x) for x in range(1, 18)]:\n",
    "        for position in ['QB', 'RB', 'WR', 'TE', 'K', 'DST']:\n",
    "            df = pd.read_csv(CWD + '/projections/{}/{}/'.format(year, week) + FILENAME_STUB.format(position))\n",
    "            df['Year'] = year\n",
    "            df['Week'] = week\n",
    "            df['Pos'] = position\n",
    "            if position == 'QB':\n",
    "                df.rename(columns = {'ATT': 'ATT_PASS', 'YDS': 'YDS_PASS', 'TDS': 'TDS_PASS',\n",
    "                                     'ATT.1': 'ATT_RUSH', 'YDS.1': 'YDS_RUSH', 'TDS.1': 'TDS_RUSH',\n",
    "                                    }, inplace = True)\n",
    "            if position == 'RB':\n",
    "                df.rename(columns = {'ATT': 'ATT_RUSH', 'YDS': 'YDS_RUSH', 'TDS': 'TDS_PASS',\n",
    "                                     'YDS.1': 'YDS_REC', 'TDS.1': 'TDS_REC'\n",
    "                                    }, inplace = True)\n",
    "            if position == 'WR':\n",
    "                df.rename(columns = {'ATT': 'ATT_RUSH', 'YDS': 'YDS_REC', 'TDS': 'TDS_REC',\n",
    "                                     'YDS.1': 'YDS_RUSH', 'TDS.1': 'TDS_RUSH'\n",
    "                                    }, inplace = True)\n",
    "            if position == 'TE':\n",
    "                df.rename(columns = {'YDS': 'YDS_REC', 'TDS': 'TDS_REC',\n",
    "                                    }, inplace = True)\n",
    "            full_df = full_df.append(df, ignore_index=True)\n",
    "full_df = full_df[(full_df.Player.notnull()) & (full_df.Player != '\\xa0')]\n",
    "full_df.fillna(0, inplace = True)\n",
    "full_df.reset_index(drop=True, inplace=True)\n",
    "full_df.to_csv('historical_projections.csv', index=False)"
   ]
  },
  {
   "cell_type": "code",
   "execution_count": 45,
   "metadata": {},
   "outputs": [
    {
     "data": {
      "text/html": [
       "<div>\n",
       "<style scoped>\n",
       "    .dataframe tbody tr th:only-of-type {\n",
       "        vertical-align: middle;\n",
       "    }\n",
       "\n",
       "    .dataframe tbody tr th {\n",
       "        vertical-align: top;\n",
       "    }\n",
       "\n",
       "    .dataframe thead th {\n",
       "        text-align: right;\n",
       "    }\n",
       "</style>\n",
       "<table border=\"1\" class=\"dataframe\">\n",
       "  <thead>\n",
       "    <tr style=\"text-align: right;\">\n",
       "      <th></th>\n",
       "      <th>ATT_PASS</th>\n",
       "      <th>ATT_RUSH</th>\n",
       "      <th>CMP</th>\n",
       "      <th>FG</th>\n",
       "      <th>FGA</th>\n",
       "      <th>FL</th>\n",
       "      <th>FPTS</th>\n",
       "      <th>INTS</th>\n",
       "      <th>Player</th>\n",
       "      <th>REC</th>\n",
       "      <th>TDS_PASS</th>\n",
       "      <th>TDS_REC</th>\n",
       "      <th>TDS_RUSH</th>\n",
       "      <th>Team</th>\n",
       "      <th>XPT</th>\n",
       "      <th>YDS_PASS</th>\n",
       "      <th>YDS_REC</th>\n",
       "      <th>YDS_RUSH</th>\n",
       "    </tr>\n",
       "  </thead>\n",
       "  <tbody>\n",
       "    <tr>\n",
       "      <th>0</th>\n",
       "      <td>30.1</td>\n",
       "      <td>6.3</td>\n",
       "      <td>19.9</td>\n",
       "      <td>0.0</td>\n",
       "      <td>0.0</td>\n",
       "      <td>0.2</td>\n",
       "      <td>20.6</td>\n",
       "      <td>0.6</td>\n",
       "      <td>Russell Wilson</td>\n",
       "      <td>0.0</td>\n",
       "      <td>1.9</td>\n",
       "      <td>0.0</td>\n",
       "      <td>0.2</td>\n",
       "      <td>SEA</td>\n",
       "      <td>0.0</td>\n",
       "      <td>245.0</td>\n",
       "      <td>0.0</td>\n",
       "      <td>34.9</td>\n",
       "    </tr>\n",
       "    <tr>\n",
       "      <th>1</th>\n",
       "      <td>36.9</td>\n",
       "      <td>3.7</td>\n",
       "      <td>23.3</td>\n",
       "      <td>0.0</td>\n",
       "      <td>0.0</td>\n",
       "      <td>0.2</td>\n",
       "      <td>20.4</td>\n",
       "      <td>0.5</td>\n",
       "      <td>Aaron Rodgers</td>\n",
       "      <td>0.0</td>\n",
       "      <td>2.1</td>\n",
       "      <td>0.0</td>\n",
       "      <td>0.1</td>\n",
       "      <td>GB</td>\n",
       "      <td>0.0</td>\n",
       "      <td>274.7</td>\n",
       "      <td>0.0</td>\n",
       "      <td>17.4</td>\n",
       "    </tr>\n",
       "    <tr>\n",
       "      <th>2</th>\n",
       "      <td>38.7</td>\n",
       "      <td>4.0</td>\n",
       "      <td>23.5</td>\n",
       "      <td>0.0</td>\n",
       "      <td>0.0</td>\n",
       "      <td>0.3</td>\n",
       "      <td>20.3</td>\n",
       "      <td>1.0</td>\n",
       "      <td>Andrew Luck</td>\n",
       "      <td>0.0</td>\n",
       "      <td>2.4</td>\n",
       "      <td>0.0</td>\n",
       "      <td>0.1</td>\n",
       "      <td>IND</td>\n",
       "      <td>0.0</td>\n",
       "      <td>275.9</td>\n",
       "      <td>0.0</td>\n",
       "      <td>17.8</td>\n",
       "    </tr>\n",
       "    <tr>\n",
       "      <th>3</th>\n",
       "      <td>40.4</td>\n",
       "      <td>1.3</td>\n",
       "      <td>27.0</td>\n",
       "      <td>0.0</td>\n",
       "      <td>0.0</td>\n",
       "      <td>0.2</td>\n",
       "      <td>19.7</td>\n",
       "      <td>0.9</td>\n",
       "      <td>Drew Brees</td>\n",
       "      <td>0.0</td>\n",
       "      <td>2.3</td>\n",
       "      <td>0.0</td>\n",
       "      <td>0.1</td>\n",
       "      <td>NO</td>\n",
       "      <td>0.0</td>\n",
       "      <td>307.2</td>\n",
       "      <td>0.0</td>\n",
       "      <td>2.2</td>\n",
       "    </tr>\n",
       "    <tr>\n",
       "      <th>4</th>\n",
       "      <td>37.1</td>\n",
       "      <td>2.1</td>\n",
       "      <td>23.4</td>\n",
       "      <td>0.0</td>\n",
       "      <td>0.0</td>\n",
       "      <td>0.3</td>\n",
       "      <td>18.5</td>\n",
       "      <td>0.7</td>\n",
       "      <td>Derek Carr</td>\n",
       "      <td>0.0</td>\n",
       "      <td>2.2</td>\n",
       "      <td>0.0</td>\n",
       "      <td>0.0</td>\n",
       "      <td>OAK</td>\n",
       "      <td>0.0</td>\n",
       "      <td>274.5</td>\n",
       "      <td>0.0</td>\n",
       "      <td>7.7</td>\n",
       "    </tr>\n",
       "  </tbody>\n",
       "</table>\n",
       "</div>"
      ],
      "text/plain": [
       "   ATT_PASS  ATT_RUSH   CMP   FG  FGA   FL  FPTS  INTS          Player  REC  \\\n",
       "0      30.1       6.3  19.9  0.0  0.0  0.2  20.6   0.6  Russell Wilson  0.0   \n",
       "1      36.9       3.7  23.3  0.0  0.0  0.2  20.4   0.5   Aaron Rodgers  0.0   \n",
       "2      38.7       4.0  23.5  0.0  0.0  0.3  20.3   1.0     Andrew Luck  0.0   \n",
       "3      40.4       1.3  27.0  0.0  0.0  0.2  19.7   0.9      Drew Brees  0.0   \n",
       "4      37.1       2.1  23.4  0.0  0.0  0.3  18.5   0.7      Derek Carr  0.0   \n",
       "\n",
       "   TDS_PASS  TDS_REC  TDS_RUSH Team  XPT  YDS_PASS  YDS_REC  YDS_RUSH  \n",
       "0       1.9      0.0       0.2  SEA  0.0     245.0      0.0      34.9  \n",
       "1       2.1      0.0       0.1   GB  0.0     274.7      0.0      17.4  \n",
       "2       2.4      0.0       0.1  IND  0.0     275.9      0.0      17.8  \n",
       "3       2.3      0.0       0.1   NO  0.0     307.2      0.0       2.2  \n",
       "4       2.2      0.0       0.0  OAK  0.0     274.5      0.0       7.7  "
      ]
     },
     "execution_count": 45,
     "metadata": {},
     "output_type": "execute_result"
    }
   ],
   "source": [
    "full_df.head()"
   ]
  },
  {
   "cell_type": "code",
   "execution_count": 46,
   "metadata": {},
   "outputs": [
    {
     "data": {
      "text/html": [
       "<div>\n",
       "<style scoped>\n",
       "    .dataframe tbody tr th:only-of-type {\n",
       "        vertical-align: middle;\n",
       "    }\n",
       "\n",
       "    .dataframe tbody tr th {\n",
       "        vertical-align: top;\n",
       "    }\n",
       "\n",
       "    .dataframe thead th {\n",
       "        text-align: right;\n",
       "    }\n",
       "</style>\n",
       "<table border=\"1\" class=\"dataframe\">\n",
       "  <thead>\n",
       "    <tr style=\"text-align: right;\">\n",
       "      <th></th>\n",
       "      <th>ATT_PASS</th>\n",
       "      <th>ATT_RUSH</th>\n",
       "      <th>CMP</th>\n",
       "      <th>FG</th>\n",
       "      <th>FGA</th>\n",
       "      <th>FL</th>\n",
       "      <th>FPTS</th>\n",
       "      <th>INTS</th>\n",
       "      <th>Player</th>\n",
       "      <th>REC</th>\n",
       "      <th>TDS_PASS</th>\n",
       "      <th>TDS_REC</th>\n",
       "      <th>TDS_RUSH</th>\n",
       "      <th>Team</th>\n",
       "      <th>XPT</th>\n",
       "      <th>YDS_PASS</th>\n",
       "      <th>YDS_REC</th>\n",
       "      <th>YDS_RUSH</th>\n",
       "    </tr>\n",
       "  </thead>\n",
       "  <tbody>\n",
       "    <tr>\n",
       "      <th>15660</th>\n",
       "      <td>0.0</td>\n",
       "      <td>0.0</td>\n",
       "      <td>0.0</td>\n",
       "      <td>1.1</td>\n",
       "      <td>1.3</td>\n",
       "      <td>0.0</td>\n",
       "      <td>4.8</td>\n",
       "      <td>0.0</td>\n",
       "      <td>Zane Gonzalez</td>\n",
       "      <td>0.0</td>\n",
       "      <td>0.0</td>\n",
       "      <td>0.0</td>\n",
       "      <td>0.0</td>\n",
       "      <td>CLE</td>\n",
       "      <td>1.6</td>\n",
       "      <td>0.0</td>\n",
       "      <td>0.0</td>\n",
       "      <td>0.0</td>\n",
       "    </tr>\n",
       "    <tr>\n",
       "      <th>15661</th>\n",
       "      <td>0.0</td>\n",
       "      <td>0.0</td>\n",
       "      <td>0.0</td>\n",
       "      <td>0.0</td>\n",
       "      <td>0.0</td>\n",
       "      <td>0.0</td>\n",
       "      <td>0.0</td>\n",
       "      <td>0.0</td>\n",
       "      <td>Jason Myers</td>\n",
       "      <td>0.0</td>\n",
       "      <td>0.0</td>\n",
       "      <td>0.0</td>\n",
       "      <td>0.0</td>\n",
       "      <td>NYJ</td>\n",
       "      <td>0.0</td>\n",
       "      <td>0.0</td>\n",
       "      <td>0.0</td>\n",
       "      <td>0.0</td>\n",
       "    </tr>\n",
       "    <tr>\n",
       "      <th>15662</th>\n",
       "      <td>0.0</td>\n",
       "      <td>0.0</td>\n",
       "      <td>0.0</td>\n",
       "      <td>0.0</td>\n",
       "      <td>0.0</td>\n",
       "      <td>0.0</td>\n",
       "      <td>0.0</td>\n",
       "      <td>0.0</td>\n",
       "      <td>Jonathan Brown</td>\n",
       "      <td>0.0</td>\n",
       "      <td>0.0</td>\n",
       "      <td>0.0</td>\n",
       "      <td>0.0</td>\n",
       "      <td>CIN</td>\n",
       "      <td>0.0</td>\n",
       "      <td>0.0</td>\n",
       "      <td>0.0</td>\n",
       "      <td>0.0</td>\n",
       "    </tr>\n",
       "    <tr>\n",
       "      <th>15663</th>\n",
       "      <td>0.0</td>\n",
       "      <td>0.0</td>\n",
       "      <td>0.0</td>\n",
       "      <td>0.0</td>\n",
       "      <td>0.0</td>\n",
       "      <td>0.0</td>\n",
       "      <td>0.0</td>\n",
       "      <td>0.0</td>\n",
       "      <td>Roberto Aguayo</td>\n",
       "      <td>0.0</td>\n",
       "      <td>0.0</td>\n",
       "      <td>0.0</td>\n",
       "      <td>0.0</td>\n",
       "      <td>LAC</td>\n",
       "      <td>0.0</td>\n",
       "      <td>0.0</td>\n",
       "      <td>0.0</td>\n",
       "      <td>0.0</td>\n",
       "    </tr>\n",
       "    <tr>\n",
       "      <th>15664</th>\n",
       "      <td>0.0</td>\n",
       "      <td>0.0</td>\n",
       "      <td>0.0</td>\n",
       "      <td>0.0</td>\n",
       "      <td>0.0</td>\n",
       "      <td>0.0</td>\n",
       "      <td>0.0</td>\n",
       "      <td>0.0</td>\n",
       "      <td>Marshall Koehn</td>\n",
       "      <td>0.0</td>\n",
       "      <td>0.0</td>\n",
       "      <td>0.0</td>\n",
       "      <td>0.0</td>\n",
       "      <td>NYG</td>\n",
       "      <td>0.0</td>\n",
       "      <td>0.0</td>\n",
       "      <td>0.0</td>\n",
       "      <td>0.0</td>\n",
       "    </tr>\n",
       "  </tbody>\n",
       "</table>\n",
       "</div>"
      ],
      "text/plain": [
       "       ATT_PASS  ATT_RUSH  CMP   FG  FGA   FL  FPTS  INTS          Player  \\\n",
       "15660       0.0       0.0  0.0  1.1  1.3  0.0   4.8   0.0   Zane Gonzalez   \n",
       "15661       0.0       0.0  0.0  0.0  0.0  0.0   0.0   0.0     Jason Myers   \n",
       "15662       0.0       0.0  0.0  0.0  0.0  0.0   0.0   0.0  Jonathan Brown   \n",
       "15663       0.0       0.0  0.0  0.0  0.0  0.0   0.0   0.0  Roberto Aguayo   \n",
       "15664       0.0       0.0  0.0  0.0  0.0  0.0   0.0   0.0  Marshall Koehn   \n",
       "\n",
       "       REC  TDS_PASS  TDS_REC  TDS_RUSH Team  XPT  YDS_PASS  YDS_REC  YDS_RUSH  \n",
       "15660  0.0       0.0      0.0       0.0  CLE  1.6       0.0      0.0       0.0  \n",
       "15661  0.0       0.0      0.0       0.0  NYJ  0.0       0.0      0.0       0.0  \n",
       "15662  0.0       0.0      0.0       0.0  CIN  0.0       0.0      0.0       0.0  \n",
       "15663  0.0       0.0      0.0       0.0  LAC  0.0       0.0      0.0       0.0  \n",
       "15664  0.0       0.0      0.0       0.0  NYG  0.0       0.0      0.0       0.0  "
      ]
     },
     "execution_count": 46,
     "metadata": {},
     "output_type": "execute_result"
    }
   ],
   "source": [
    "full_df.tail()"
   ]
  },
  {
   "cell_type": "code",
   "execution_count": 47,
   "metadata": {},
   "outputs": [
    {
     "data": {
      "text/plain": [
       "'Aaron Rodgers'"
      ]
     },
     "execution_count": 47,
     "metadata": {},
     "output_type": "execute_result"
    }
   ],
   "source": [
    "full_df.loc[1, 'Player']"
   ]
  },
  {
   "cell_type": "code",
   "execution_count": 30,
   "metadata": {},
   "outputs": [
    {
     "data": {
      "text/plain": [
       "(15665, 18)"
      ]
     },
     "execution_count": 30,
     "metadata": {},
     "output_type": "execute_result"
    }
   ],
   "source": [
    "full_df[(full_df.Player.notnull()) & (full_df.Player != '\\xa0')].shape"
   ]
  },
  {
   "cell_type": "code",
   "execution_count": 18,
   "metadata": {},
   "outputs": [
    {
     "data": {
      "text/plain": [
       "(16141, 18)"
      ]
     },
     "execution_count": 18,
     "metadata": {},
     "output_type": "execute_result"
    }
   ],
   "source": [
    "full_df.shape"
   ]
  },
  {
   "cell_type": "code",
   "execution_count": 34,
   "metadata": {},
   "outputs": [
    {
     "data": {
      "text/plain": [
       "0"
      ]
     },
     "execution_count": 34,
     "metadata": {},
     "output_type": "execute_result"
    }
   ],
   "source": [
    "full_df.isnull().all(axis=1).sum()"
   ]
  },
  {
   "cell_type": "code",
   "execution_count": 21,
   "metadata": {},
   "outputs": [
    {
     "data": {
      "text/plain": [
       "340"
      ]
     },
     "execution_count": 21,
     "metadata": {},
     "output_type": "execute_result"
    }
   ],
   "source": [
    "full_df.Player.isnull().sum()"
   ]
  },
  {
   "cell_type": "code",
   "execution_count": 35,
   "metadata": {},
   "outputs": [
    {
     "data": {
      "text/plain": [
       "(0, 18)"
      ]
     },
     "execution_count": 35,
     "metadata": {},
     "output_type": "execute_result"
    }
   ],
   "source": [
    "full_df[full_df.Player == '\\xa0'].shape"
   ]
  },
  {
   "cell_type": "code",
   "execution_count": 28,
   "metadata": {},
   "outputs": [
    {
     "data": {
      "text/plain": [
       "'\\xa0'"
      ]
     },
     "execution_count": 28,
     "metadata": {},
     "output_type": "execute_result"
    }
   ],
   "source": [
    "full_df.loc[0, 'Player']"
   ]
  },
  {
   "cell_type": "code",
   "execution_count": 13,
   "metadata": {},
   "outputs": [],
   "source": [
    "FILENAME_STUB = \"FantasyPros_Fantasy_Football_Projections_{}.csv\"\n",
    "year = \"2017\"\n",
    "week = \"1\"\n",
    "position = \"RB\"\n",
    "df = pd.read_csv(CWD + '/projections/{}/{}/'.format(year, week) + FILENAME_STUB.format(position))\n",
    "            "
   ]
  },
  {
   "cell_type": "code",
   "execution_count": 14,
   "metadata": {},
   "outputs": [
    {
     "data": {
      "text/html": [
       "<div>\n",
       "<style scoped>\n",
       "    .dataframe tbody tr th:only-of-type {\n",
       "        vertical-align: middle;\n",
       "    }\n",
       "\n",
       "    .dataframe tbody tr th {\n",
       "        vertical-align: top;\n",
       "    }\n",
       "\n",
       "    .dataframe thead th {\n",
       "        text-align: right;\n",
       "    }\n",
       "</style>\n",
       "<table border=\"1\" class=\"dataframe\">\n",
       "  <thead>\n",
       "    <tr style=\"text-align: right;\">\n",
       "      <th></th>\n",
       "      <th>Player</th>\n",
       "      <th>Team</th>\n",
       "      <th>ATT</th>\n",
       "      <th>YDS</th>\n",
       "      <th>TDS</th>\n",
       "      <th>REC</th>\n",
       "      <th>YDS.1</th>\n",
       "      <th>TDS.1</th>\n",
       "      <th>FL</th>\n",
       "      <th>FPTS</th>\n",
       "    </tr>\n",
       "  </thead>\n",
       "  <tbody>\n",
       "    <tr>\n",
       "      <th>0</th>\n",
       "      <td></td>\n",
       "      <td>NaN</td>\n",
       "      <td>NaN</td>\n",
       "      <td>NaN</td>\n",
       "      <td>NaN</td>\n",
       "      <td>NaN</td>\n",
       "      <td>NaN</td>\n",
       "      <td>NaN</td>\n",
       "      <td>NaN</td>\n",
       "      <td>NaN</td>\n",
       "    </tr>\n",
       "    <tr>\n",
       "      <th>1</th>\n",
       "      <td>Le'Veon Bell</td>\n",
       "      <td>PIT</td>\n",
       "      <td>20.7</td>\n",
       "      <td>94.5</td>\n",
       "      <td>0.8</td>\n",
       "      <td>4.7</td>\n",
       "      <td>41.7</td>\n",
       "      <td>0.2</td>\n",
       "      <td>0.2</td>\n",
       "      <td>18.7</td>\n",
       "    </tr>\n",
       "    <tr>\n",
       "      <th>2</th>\n",
       "      <td>David Johnson</td>\n",
       "      <td>ARI</td>\n",
       "      <td>18.6</td>\n",
       "      <td>80.3</td>\n",
       "      <td>0.8</td>\n",
       "      <td>5.2</td>\n",
       "      <td>48.6</td>\n",
       "      <td>0.2</td>\n",
       "      <td>0.2</td>\n",
       "      <td>18.5</td>\n",
       "    </tr>\n",
       "    <tr>\n",
       "      <th>3</th>\n",
       "      <td>Ezekiel Elliott</td>\n",
       "      <td>DAL</td>\n",
       "      <td>20.4</td>\n",
       "      <td>92.7</td>\n",
       "      <td>0.7</td>\n",
       "      <td>2.6</td>\n",
       "      <td>21.9</td>\n",
       "      <td>0.1</td>\n",
       "      <td>0.1</td>\n",
       "      <td>16.1</td>\n",
       "    </tr>\n",
       "    <tr>\n",
       "      <th>4</th>\n",
       "      <td>LeSean McCoy</td>\n",
       "      <td>BUF</td>\n",
       "      <td>18.7</td>\n",
       "      <td>85.3</td>\n",
       "      <td>0.7</td>\n",
       "      <td>3.3</td>\n",
       "      <td>25.8</td>\n",
       "      <td>0.1</td>\n",
       "      <td>0.1</td>\n",
       "      <td>15.6</td>\n",
       "    </tr>\n",
       "  </tbody>\n",
       "</table>\n",
       "</div>"
      ],
      "text/plain": [
       "            Player Team   ATT   YDS  TDS  REC  YDS.1  TDS.1   FL  FPTS\n",
       "0                   NaN   NaN   NaN  NaN  NaN    NaN    NaN  NaN   NaN\n",
       "1     Le'Veon Bell  PIT  20.7  94.5  0.8  4.7   41.7    0.2  0.2  18.7\n",
       "2    David Johnson  ARI  18.6  80.3  0.8  5.2   48.6    0.2  0.2  18.5\n",
       "3  Ezekiel Elliott  DAL  20.4  92.7  0.7  2.6   21.9    0.1  0.1  16.1\n",
       "4     LeSean McCoy  BUF  18.7  85.3  0.7  3.3   25.8    0.1  0.1  15.6"
      ]
     },
     "execution_count": 14,
     "metadata": {},
     "output_type": "execute_result"
    }
   ],
   "source": [
    "df.head()"
   ]
  },
  {
   "cell_type": "code",
   "execution_count": null,
   "metadata": {},
   "outputs": [],
   "source": []
  }
 ],
 "metadata": {
  "kernelspec": {
   "display_name": "Python 2",
   "language": "python",
   "name": "python2"
  },
  "language_info": {
   "codemirror_mode": {
    "name": "ipython",
    "version": 2
   },
   "file_extension": ".py",
   "mimetype": "text/x-python",
   "name": "python",
   "nbconvert_exporter": "python",
   "pygments_lexer": "ipython2",
   "version": "2.7.15"
  }
 },
 "nbformat": 4,
 "nbformat_minor": 2
}
